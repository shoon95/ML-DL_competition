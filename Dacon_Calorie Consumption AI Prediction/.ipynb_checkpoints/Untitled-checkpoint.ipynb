{
 "cells": [
  {
   "cell_type": "code",
   "execution_count": 1,
   "id": "922a4895",
   "metadata": {
    "scrolled": true
   },
   "outputs": [
    {
     "name": "stdout",
     "output_type": "stream",
     "text": [
      "Requirement already satisfied: xgboost in c:\\users\\sjhty\\anaconda3\\lib\\site-packages (1.7.5)\n",
      "Requirement already satisfied: numpy in c:\\users\\sjhty\\anaconda3\\lib\\site-packages (from xgboost) (1.23.5)\n",
      "Requirement already satisfied: scipy in c:\\users\\sjhty\\anaconda3\\lib\\site-packages (from xgboost) (1.9.1)\n",
      "Requirement already satisfied: lightgbm in c:\\users\\sjhty\\anaconda3\\lib\\site-packages (3.3.5)\n",
      "Requirement already satisfied: numpy in c:\\users\\sjhty\\anaconda3\\lib\\site-packages (from lightgbm) (1.23.5)\n",
      "Requirement already satisfied: wheel in c:\\users\\sjhty\\anaconda3\\lib\\site-packages (from lightgbm) (0.37.1)\n",
      "Requirement already satisfied: scikit-learn!=0.22.0 in c:\\users\\sjhty\\anaconda3\\lib\\site-packages (from lightgbm) (1.2.2)\n",
      "Requirement already satisfied: scipy in c:\\users\\sjhty\\anaconda3\\lib\\site-packages (from lightgbm) (1.9.1)\n",
      "Requirement already satisfied: joblib>=1.1.1 in c:\\users\\sjhty\\anaconda3\\lib\\site-packages (from scikit-learn!=0.22.0->lightgbm) (1.2.0)\n",
      "Requirement already satisfied: threadpoolctl>=2.0.0 in c:\\users\\sjhty\\anaconda3\\lib\\site-packages (from scikit-learn!=0.22.0->lightgbm) (2.2.0)\n"
     ]
    }
   ],
   "source": [
    "!pip install xgboost\n",
    "!pip install lightgbm"
   ]
  },
  {
   "cell_type": "code",
   "execution_count": 2,
   "id": "f1f58884",
   "metadata": {},
   "outputs": [],
   "source": [
    "import warnings\n",
    "warnings.filterwarnings('ignore')\n",
    "import pandas as pd\n",
    "import matplotlib.pyplot as plt\n",
    "%matplotlib inline\n",
    "import seaborn as sns\n",
    "import os\n",
    "import random\n",
    "import numpy as np\n",
    "from sklearn.preprocessing import LabelEncoder\n",
    "from sklearn.preprocessing import StandardScaler, MinMaxScaler\n",
    "from sklearn.preprocessing import PolynomialFeatures\n",
    "from sklearn.linear_model import LinearRegression, Ridge, Lasso\n",
    "from sklearn.model_selection import train_test_split, KFold\n",
    "from sklearn.metrics import mean_squared_error\n",
    "from sklearn.model_selection import GridSearchCV\n",
    "from xgboost import XGBRegressor\n",
    "from lightgbm import LGBMRegressor\n",
    "import itertools"
   ]
  },
  {
   "cell_type": "code",
   "execution_count": 3,
   "id": "e4de8c63",
   "metadata": {},
   "outputs": [],
   "source": [
    "def seed_everything(seed):\n",
    "    random.seed(seed)\n",
    "    os.environ['PYTHONHASHSEED'] = str(seed)\n",
    "    np.random.seed(seed)\n",
    "    \n",
    "seed_everything(42)"
   ]
  },
  {
   "cell_type": "code",
   "execution_count": 4,
   "id": "d3e8004f",
   "metadata": {},
   "outputs": [],
   "source": [
    "train = pd.read_csv('train.csv')\n",
    "test = pd.read_csv('test.csv')\n",
    "submission = pd.read_csv('sample_submission.csv')"
   ]
  },
  {
   "cell_type": "markdown",
   "id": "4a5ebb75",
   "metadata": {},
   "source": [
    "## 데이터 피처 타입 확인\n",
    "feature select 후 object 타입의 feature의 encoding 필요 (Gender, Age)"
   ]
  },
  {
   "cell_type": "code",
   "execution_count": 5,
   "id": "5fc91c34",
   "metadata": {},
   "outputs": [
    {
     "data": {
      "text/plain": [
       "float64    7\n",
       "object     3\n",
       "int64      1\n",
       "dtype: int64"
      ]
     },
     "execution_count": 5,
     "metadata": {},
     "output_type": "execute_result"
    }
   ],
   "source": [
    "train.dtypes.value_counts()"
   ]
  },
  {
   "cell_type": "markdown",
   "id": "9d356929",
   "metadata": {},
   "source": [
    "## 결측값 존재 확인\n",
    "결측값이 존재하지 않아 따로 처리 불필요"
   ]
  },
  {
   "cell_type": "code",
   "execution_count": 6,
   "id": "28c9a38a",
   "metadata": {},
   "outputs": [
    {
     "name": "stdout",
     "output_type": "stream",
     "text": [
      "<class 'pandas.core.frame.DataFrame'>\n",
      "RangeIndex: 7500 entries, 0 to 7499\n",
      "Data columns (total 11 columns):\n",
      " #   Column                    Non-Null Count  Dtype  \n",
      "---  ------                    --------------  -----  \n",
      " 0   ID                        7500 non-null   object \n",
      " 1   Exercise_Duration         7500 non-null   float64\n",
      " 2   Body_Temperature(F)       7500 non-null   float64\n",
      " 3   BPM                       7500 non-null   float64\n",
      " 4   Height(Feet)              7500 non-null   float64\n",
      " 5   Height(Remainder_Inches)  7500 non-null   float64\n",
      " 6   Weight(lb)                7500 non-null   float64\n",
      " 7   Weight_Status             7500 non-null   object \n",
      " 8   Gender                    7500 non-null   object \n",
      " 9   Age                       7500 non-null   int64  \n",
      " 10  Calories_Burned           7500 non-null   float64\n",
      "dtypes: float64(7), int64(1), object(3)\n",
      "memory usage: 644.7+ KB\n"
     ]
    }
   ],
   "source": [
    "train.info()"
   ]
  },
  {
   "cell_type": "code",
   "execution_count": 7,
   "id": "b5affc43",
   "metadata": {},
   "outputs": [
    {
     "name": "stdout",
     "output_type": "stream",
     "text": [
      "<class 'pandas.core.frame.DataFrame'>\n",
      "RangeIndex: 7500 entries, 0 to 7499\n",
      "Data columns (total 10 columns):\n",
      " #   Column                    Non-Null Count  Dtype  \n",
      "---  ------                    --------------  -----  \n",
      " 0   ID                        7500 non-null   object \n",
      " 1   Exercise_Duration         7500 non-null   float64\n",
      " 2   Body_Temperature(F)       7500 non-null   float64\n",
      " 3   BPM                       7500 non-null   float64\n",
      " 4   Height(Feet)              7500 non-null   float64\n",
      " 5   Height(Remainder_Inches)  7500 non-null   float64\n",
      " 6   Weight(lb)                7500 non-null   float64\n",
      " 7   Weight_Status             7500 non-null   object \n",
      " 8   Gender                    7500 non-null   object \n",
      " 9   Age                       7500 non-null   int64  \n",
      "dtypes: float64(6), int64(1), object(3)\n",
      "memory usage: 586.1+ KB\n"
     ]
    }
   ],
   "source": [
    "test.info()"
   ]
  },
  {
   "cell_type": "markdown",
   "id": "52caffb8",
   "metadata": {},
   "source": [
    "## 기초 통계량 확인\n",
    "숫자의 값이 매우 큰 feature는 없어 log 변환은 굳이 진행할 필요 없어보임\n",
    "\n",
    "features : exrecise_duration, body_temperatrue, bpm, height(feet), height(remainder_inches) weight, age, gender, weight, status\n",
    "  \n",
    "target : calories_burned"
   ]
  },
  {
   "cell_type": "code",
   "execution_count": 8,
   "id": "2127e051",
   "metadata": {
    "scrolled": true
   },
   "outputs": [
    {
     "data": {
      "text/html": [
       "<div>\n",
       "<style scoped>\n",
       "    .dataframe tbody tr th:only-of-type {\n",
       "        vertical-align: middle;\n",
       "    }\n",
       "\n",
       "    .dataframe tbody tr th {\n",
       "        vertical-align: top;\n",
       "    }\n",
       "\n",
       "    .dataframe thead th {\n",
       "        text-align: right;\n",
       "    }\n",
       "</style>\n",
       "<table border=\"1\" class=\"dataframe\">\n",
       "  <thead>\n",
       "    <tr style=\"text-align: right;\">\n",
       "      <th></th>\n",
       "      <th>Exercise_Duration</th>\n",
       "      <th>Body_Temperature(F)</th>\n",
       "      <th>BPM</th>\n",
       "      <th>Height(Feet)</th>\n",
       "      <th>Height(Remainder_Inches)</th>\n",
       "      <th>Weight(lb)</th>\n",
       "      <th>Age</th>\n",
       "      <th>Calories_Burned</th>\n",
       "    </tr>\n",
       "  </thead>\n",
       "  <tbody>\n",
       "    <tr>\n",
       "      <th>count</th>\n",
       "      <td>7500.0000</td>\n",
       "      <td>7500.000000</td>\n",
       "      <td>7500.000000</td>\n",
       "      <td>7500.000000</td>\n",
       "      <td>7500.000000</td>\n",
       "      <td>7500.000000</td>\n",
       "      <td>7500.000000</td>\n",
       "      <td>7500.000000</td>\n",
       "    </tr>\n",
       "    <tr>\n",
       "      <th>mean</th>\n",
       "      <td>15.5012</td>\n",
       "      <td>104.033573</td>\n",
       "      <td>95.498133</td>\n",
       "      <td>5.248800</td>\n",
       "      <td>5.717600</td>\n",
       "      <td>165.361187</td>\n",
       "      <td>42.636000</td>\n",
       "      <td>89.373467</td>\n",
       "    </tr>\n",
       "    <tr>\n",
       "      <th>std</th>\n",
       "      <td>8.3553</td>\n",
       "      <td>1.412845</td>\n",
       "      <td>9.587331</td>\n",
       "      <td>0.556663</td>\n",
       "      <td>3.497315</td>\n",
       "      <td>33.308136</td>\n",
       "      <td>16.883188</td>\n",
       "      <td>62.817086</td>\n",
       "    </tr>\n",
       "    <tr>\n",
       "      <th>min</th>\n",
       "      <td>1.0000</td>\n",
       "      <td>98.800000</td>\n",
       "      <td>69.000000</td>\n",
       "      <td>4.000000</td>\n",
       "      <td>0.000000</td>\n",
       "      <td>79.400000</td>\n",
       "      <td>20.000000</td>\n",
       "      <td>1.000000</td>\n",
       "    </tr>\n",
       "    <tr>\n",
       "      <th>25%</th>\n",
       "      <td>8.0000</td>\n",
       "      <td>103.300000</td>\n",
       "      <td>88.000000</td>\n",
       "      <td>5.000000</td>\n",
       "      <td>3.000000</td>\n",
       "      <td>138.900000</td>\n",
       "      <td>28.000000</td>\n",
       "      <td>35.000000</td>\n",
       "    </tr>\n",
       "    <tr>\n",
       "      <th>50%</th>\n",
       "      <td>15.0000</td>\n",
       "      <td>104.400000</td>\n",
       "      <td>95.000000</td>\n",
       "      <td>5.000000</td>\n",
       "      <td>6.000000</td>\n",
       "      <td>163.100000</td>\n",
       "      <td>39.000000</td>\n",
       "      <td>77.000000</td>\n",
       "    </tr>\n",
       "    <tr>\n",
       "      <th>75%</th>\n",
       "      <td>23.0000</td>\n",
       "      <td>105.100000</td>\n",
       "      <td>103.000000</td>\n",
       "      <td>6.000000</td>\n",
       "      <td>9.000000</td>\n",
       "      <td>191.800000</td>\n",
       "      <td>56.000000</td>\n",
       "      <td>138.000000</td>\n",
       "    </tr>\n",
       "    <tr>\n",
       "      <th>max</th>\n",
       "      <td>30.0000</td>\n",
       "      <td>106.700000</td>\n",
       "      <td>128.000000</td>\n",
       "      <td>7.000000</td>\n",
       "      <td>12.000000</td>\n",
       "      <td>291.000000</td>\n",
       "      <td>79.000000</td>\n",
       "      <td>300.000000</td>\n",
       "    </tr>\n",
       "  </tbody>\n",
       "</table>\n",
       "</div>"
      ],
      "text/plain": [
       "       Exercise_Duration  Body_Temperature(F)          BPM  Height(Feet)  \\\n",
       "count          7500.0000          7500.000000  7500.000000   7500.000000   \n",
       "mean             15.5012           104.033573    95.498133      5.248800   \n",
       "std               8.3553             1.412845     9.587331      0.556663   \n",
       "min               1.0000            98.800000    69.000000      4.000000   \n",
       "25%               8.0000           103.300000    88.000000      5.000000   \n",
       "50%              15.0000           104.400000    95.000000      5.000000   \n",
       "75%              23.0000           105.100000   103.000000      6.000000   \n",
       "max              30.0000           106.700000   128.000000      7.000000   \n",
       "\n",
       "       Height(Remainder_Inches)   Weight(lb)          Age  Calories_Burned  \n",
       "count               7500.000000  7500.000000  7500.000000      7500.000000  \n",
       "mean                   5.717600   165.361187    42.636000        89.373467  \n",
       "std                    3.497315    33.308136    16.883188        62.817086  \n",
       "min                    0.000000    79.400000    20.000000         1.000000  \n",
       "25%                    3.000000   138.900000    28.000000        35.000000  \n",
       "50%                    6.000000   163.100000    39.000000        77.000000  \n",
       "75%                    9.000000   191.800000    56.000000       138.000000  \n",
       "max                   12.000000   291.000000    79.000000       300.000000  "
      ]
     },
     "execution_count": 8,
     "metadata": {},
     "output_type": "execute_result"
    }
   ],
   "source": [
    "train.describe()"
   ]
  },
  {
   "cell_type": "code",
   "execution_count": null,
   "id": "9fca9fd2",
   "metadata": {},
   "outputs": [],
   "source": []
  },
  {
   "cell_type": "markdown",
   "id": "fdee9ac4",
   "metadata": {},
   "source": [
    "## label encoding"
   ]
  },
  {
   "cell_type": "code",
   "execution_count": 9,
   "id": "88e533c4",
   "metadata": {},
   "outputs": [],
   "source": [
    "ordinal_features = ['Weight_Status', 'Gender']\n",
    "\n",
    "for feature in ordinal_features:\n",
    "    le = LabelEncoder()\n",
    "    le = le.fit(train[feature])\n",
    "    train[feature] = le.transform(train[feature])\n",
    "\n",
    "    # train데이터에서 존재하지 않았던 값이 test 데이터에 존재할 수도 있습니다.\n",
    "    # 따라서 test 데이터를 바로 변형시키지 않고 고윳값을 확인후 test 데이터를 변환합니다.\n",
    "    for label in np.unique(test[feature]):\n",
    "        if label not in le.classes_:\n",
    "            le.classes_ = np.append(le.classes_, label)\n",
    "    test[feature] = le.transform(test[feature])"
   ]
  },
  {
   "cell_type": "code",
   "execution_count": 10,
   "id": "97f38fd1",
   "metadata": {},
   "outputs": [],
   "source": [
    "features = test.columns[1:]\n",
    "X_test = test[features]\n"
   ]
  },
  {
   "cell_type": "markdown",
   "id": "28f02148",
   "metadata": {},
   "source": [
    "## 데이터의 분포 파악\n",
    "log scale 필요 : Age, Calories_Bured"
   ]
  },
  {
   "cell_type": "code",
   "execution_count": 11,
   "id": "aca572cc",
   "metadata": {},
   "outputs": [
    {
     "data": {
      "text/plain": [
       "<AxesSubplot:xlabel='Age', ylabel='Count'>"
      ]
     },
     "execution_count": 11,
     "metadata": {},
     "output_type": "execute_result"
    },
    {
     "data": {
      "image/png": "[encoded data removed]",
      "text/plain": [
       "<Figure size 640x480 with 1 Axes>"
      ]
     },
     "metadata": {},
     "output_type": "display_data"
    }
   ],
   "source": [
    "sns.histplot(train['Age'], kde=True)"
   ]
  },
  {
   "cell_type": "code",
   "execution_count": 12,
   "id": "9908a264",
   "metadata": {
    "scrolled": true
   },
   "outputs": [
    {
     "data": {
      "text/plain": [
       "<AxesSubplot:xlabel='Calories_Burned', ylabel='Count'>"
      ]
     },
     "execution_count": 12,
     "metadata": {},
     "output_type": "execute_result"
    },
    {
     "data": {
      "image/png": "[encoded data removed]",
      "text/plain": [
       "<Figure size 640x480 with 1 Axes>"
      ]
     },
     "metadata": {},
     "output_type": "display_data"
    }
   ],
   "source": [
    "sns.histplot(train['Calories_Burned'], kde=True)"
   ]
  },
  {
   "cell_type": "code",
   "execution_count": 13,
   "id": "dbb65689",
   "metadata": {},
   "outputs": [],
   "source": [
    "# train['Calories_Burned']=np.log1p(train['Calories_Burned'])\n",
    "train['Age']=np.log1p(train['Age'])"
   ]
  },
  {
   "cell_type": "code",
   "execution_count": 14,
   "id": "398b5407",
   "metadata": {
    "scrolled": true
   },
   "outputs": [],
   "source": [
    "X_test['Age']=np.log1p(X_test['Age'])"
   ]
  },
  {
   "cell_type": "markdown",
   "id": "d9480d36",
   "metadata": {},
   "source": [
    "## 타겟 변수 분리"
   ]
  },
  {
   "cell_type": "code",
   "execution_count": 15,
   "id": "21149628",
   "metadata": {},
   "outputs": [],
   "source": [
    "features = train.columns[1:-1]\n",
    "X = train[features]\n",
    "y = train[['Calories_Burned']]"
   ]
  },
  {
   "cell_type": "markdown",
   "id": "09a5c761",
   "metadata": {},
   "source": [
    "## 독립 변수 생성"
   ]
  },
  {
   "cell_type": "code",
   "execution_count": 16,
   "id": "37b7653c",
   "metadata": {},
   "outputs": [],
   "source": [
    "# BMI\n",
    "X['BMI'] = X['Weight(lb)']/2.205/((X['Height(Feet)'] * 12 + X['Height(Remainder_Inches)'])*0.0254)**2\n",
    "X_test['BMI'] = X_test['Weight(lb)']/2.205/((X_test['Height(Feet)'] * 12 + X_test['Height(Remainder_Inches)'])*0.0254)**2\n",
    "\n",
    "# BMR\n",
    "X['BMR'] = 10 * X['Weight(lb)'] * 0.453592 + 6.25 * (X['Height(Feet)'] * 12 + X['Height(Remainder_Inches)']) * 2.54 - 5 * X['Age'] + X['Gender'].apply(lambda x: 5 if x=='M' else -161)\n",
    "X_test['BMR'] = 10 * X_test['Weight(lb)'] * 0.453592 + 6.25 * (X_test['Height(Feet)'] * 12 + X_test['Height(Remainder_Inches)']) * 2.54 - 5 * X_test['Age'] + X_test['Gender'].apply(lambda x: 5 if x=='M' else -161)\n",
    "\n",
    "# Exercise Intensity\n",
    "X['Exercise_Intensity'] = X['BPM'] / (220 - X['Age'])\n",
    "X_test['Exercise_Intensity'] = X_test['BPM'] / (220 - X_test['Age'])\n",
    "\n",
    "X['Calories_Proxy_MET'] = X['Exercise_Intensity'] / 100 * X['Weight(lb)'] * 0.453592 * X['Exercise_Duration']\n",
    "X_test['Calories_Proxy_MET'] = X_test['Exercise_Intensity'] / 100 * X_test['Weight(lb)'] * 0.453592 * X_test['Exercise_Duration']"
   ]
  },
  {
   "cell_type": "code",
   "execution_count": 17,
   "id": "4c8ecefa",
   "metadata": {},
   "outputs": [],
   "source": [
    "def process_activity_factor(x):\n",
    "    if x < 0.4: return 'Sedentary'\n",
    "    elif x < 0.6: return 'Light Exercise'\n",
    "    elif x < 0.8: return 'Moderate Exercise'\n",
    "    else: return 'Heavy Exercise'"
   ]
  },
  {
   "cell_type": "code",
   "execution_count": 18,
   "id": "2c3be453",
   "metadata": {},
   "outputs": [],
   "source": [
    "X['Activity_Factor'] = X['Exercise_Intensity'].apply(process_activity_factor)\n",
    "X_test['Activity_Factor'] = X_test['Exercise_Intensity'].apply(process_activity_factor)"
   ]
  },
  {
   "cell_type": "code",
   "execution_count": 19,
   "id": "390323ed",
   "metadata": {},
   "outputs": [],
   "source": [
    "def process_Calories_Proxy_AF(x):\n",
    "    if x == 'Sedentary': return 1.2\n",
    "    elif x == 'Light Exercise': return 1.375\n",
    "    elif x == 'Moderate Exercise': return 1.55\n",
    "    else: return 1.725"
   ]
  },
  {
   "cell_type": "code",
   "execution_count": 20,
   "id": "c853122d",
   "metadata": {},
   "outputs": [],
   "source": [
    "X['Calories_Proxy_AF'] = X['BMR'] * X['Activity_Factor'].apply(process_Calories_Proxy_AF) / 1440\n",
    "X_test['Calories_Proxy_AF'] = X_test['BMR'] * X_test['Activity_Factor'].apply(process_Calories_Proxy_AF) / 1440"
   ]
  },
  {
   "cell_type": "code",
   "execution_count": 21,
   "id": "fd848bfc",
   "metadata": {},
   "outputs": [
    {
     "data": {
      "text/plain": [
       "<AxesSubplot:xlabel='Calories_Proxy_MET', ylabel='Count'>"
      ]
     },
     "execution_count": 21,
     "metadata": {},
     "output_type": "execute_result"
    },
    {
     "data": {
      "image/png": "[encoded data removed]",
      "text/plain": [
       "<Figure size 640x480 with 1 Axes>"
      ]
     },
     "metadata": {},
     "output_type": "display_data"
    }
   ],
   "source": [
    "sns.histplot(X['Calories_Proxy_MET'])"
   ]
  },
  {
   "cell_type": "code",
   "execution_count": 22,
   "id": "d994883b",
   "metadata": {},
   "outputs": [],
   "source": [
    "# 왜도가 큰 변수를 최대한 정규분포에 가깝게 변환\n",
    "X['Calories_Proxy_MET'] = np.log1p(X['Calories_Proxy_MET'])\n",
    "X_test['Calories_Proxy_MET'] = np.log1p(X_test['Calories_Proxy_MET'])"
   ]
  },
  {
   "cell_type": "code",
   "execution_count": 23,
   "id": "c0e9b39a",
   "metadata": {},
   "outputs": [],
   "source": [
    "X = X.drop(['Activity_Factor'], axis=1)\n",
    "X_test = X_test.drop(['Activity_Factor'], axis=1)"
   ]
  },
  {
   "cell_type": "markdown",
   "id": "8f504194",
   "metadata": {},
   "source": [
    "## 훈련, 검증 데이터 셋 분리"
   ]
  },
  {
   "cell_type": "code",
   "execution_count": 24,
   "id": "d5ae8b7d",
   "metadata": {},
   "outputs": [],
   "source": [
    "X_train, X_val, y_train, y_val = train_test_split(X, y, test_size=0.2, random_state=56)"
   ]
  },
  {
   "cell_type": "code",
   "execution_count": 25,
   "id": "a114c51c",
   "metadata": {},
   "outputs": [
    {
     "data": {
      "text/html": [
       "<div>\n",
       "<style scoped>\n",
       "    .dataframe tbody tr th:only-of-type {\n",
       "        vertical-align: middle;\n",
       "    }\n",
       "\n",
       "    .dataframe tbody tr th {\n",
       "        vertical-align: top;\n",
       "    }\n",
       "\n",
       "    .dataframe thead th {\n",
       "        text-align: right;\n",
       "    }\n",
       "</style>\n",
       "<table border=\"1\" class=\"dataframe\">\n",
       "  <thead>\n",
       "    <tr style=\"text-align: right;\">\n",
       "      <th></th>\n",
       "      <th>Calories_Burned</th>\n",
       "    </tr>\n",
       "  </thead>\n",
       "  <tbody>\n",
       "    <tr>\n",
       "      <th>2889</th>\n",
       "      <td>60.0</td>\n",
       "    </tr>\n",
       "    <tr>\n",
       "      <th>989</th>\n",
       "      <td>16.0</td>\n",
       "    </tr>\n",
       "    <tr>\n",
       "      <th>6444</th>\n",
       "      <td>13.0</td>\n",
       "    </tr>\n",
       "    <tr>\n",
       "      <th>3827</th>\n",
       "      <td>113.0</td>\n",
       "    </tr>\n",
       "    <tr>\n",
       "      <th>5537</th>\n",
       "      <td>40.0</td>\n",
       "    </tr>\n",
       "    <tr>\n",
       "      <th>...</th>\n",
       "      <td>...</td>\n",
       "    </tr>\n",
       "    <tr>\n",
       "      <th>1259</th>\n",
       "      <td>42.0</td>\n",
       "    </tr>\n",
       "    <tr>\n",
       "      <th>5538</th>\n",
       "      <td>159.0</td>\n",
       "    </tr>\n",
       "    <tr>\n",
       "      <th>3264</th>\n",
       "      <td>107.0</td>\n",
       "    </tr>\n",
       "    <tr>\n",
       "      <th>399</th>\n",
       "      <td>26.0</td>\n",
       "    </tr>\n",
       "    <tr>\n",
       "      <th>2532</th>\n",
       "      <td>30.0</td>\n",
       "    </tr>\n",
       "  </tbody>\n",
       "</table>\n",
       "<p>6000 rows × 1 columns</p>\n",
       "</div>"
      ],
      "text/plain": [
       "      Calories_Burned\n",
       "2889             60.0\n",
       "989              16.0\n",
       "6444             13.0\n",
       "3827            113.0\n",
       "5537             40.0\n",
       "...               ...\n",
       "1259             42.0\n",
       "5538            159.0\n",
       "3264            107.0\n",
       "399              26.0\n",
       "2532             30.0\n",
       "\n",
       "[6000 rows x 1 columns]"
      ]
     },
     "execution_count": 25,
     "metadata": {},
     "output_type": "execute_result"
    }
   ],
   "source": [
    "y_train"
   ]
  },
  {
   "cell_type": "markdown",
   "id": "2ba3288c",
   "metadata": {},
   "source": [
    "## scaler"
   ]
  },
  {
   "cell_type": "code",
   "execution_count": 26,
   "id": "5c6ff973",
   "metadata": {
    "scrolled": true
   },
   "outputs": [
    {
     "data": {
      "text/html": [
       "<style>#sk-container-id-1 {color: black;background-color: white;}#sk-container-id-1 pre{padding: 0;}#sk-container-id-1 div.sk-toggleable {background-color: white;}#sk-container-id-1 label.sk-toggleable__label {cursor: pointer;display: block;width: 100%;margin-bottom: 0;padding: 0.3em;box-sizing: border-box;text-align: center;}#sk-container-id-1 label.sk-toggleable__label-arrow:before {content: \"▸\";float: left;margin-right: 0.25em;color: #696969;}#sk-container-id-1 label.sk-toggleable__label-arrow:hover:before {color: black;}#sk-container-id-1 div.sk-estimator:hover label.sk-toggleable__label-arrow:before {color: black;}#sk-container-id-1 div.sk-toggleable__content {max-height: 0;max-width: 0;overflow: hidden;text-align: left;background-color: #f0f8ff;}#sk-container-id-1 div.sk-toggleable__content pre {margin: 0.2em;color: black;border-radius: 0.25em;background-color: #f0f8ff;}#sk-container-id-1 input.sk-toggleable__control:checked~div.sk-toggleable__content {max-height: 200px;max-width: 100%;overflow: auto;}#sk-container-id-1 input.sk-toggleable__control:checked~label.sk-toggleable__label-arrow:before {content: \"▾\";}#sk-container-id-1 div.sk-estimator input.sk-toggleable__control:checked~label.sk-toggleable__label {background-color: #d4ebff;}#sk-container-id-1 div.sk-label input.sk-toggleable__control:checked~label.sk-toggleable__label {background-color: #d4ebff;}#sk-container-id-1 input.sk-hidden--visually {border: 0;clip: rect(1px 1px 1px 1px);clip: rect(1px, 1px, 1px, 1px);height: 1px;margin: -1px;overflow: hidden;padding: 0;position: absolute;width: 1px;}#sk-container-id-1 div.sk-estimator {font-family: monospace;background-color: #f0f8ff;border: 1px dotted black;border-radius: 0.25em;box-sizing: border-box;margin-bottom: 0.5em;}#sk-container-id-1 div.sk-estimator:hover {background-color: #d4ebff;}#sk-container-id-1 div.sk-parallel-item::after {content: \"\";width: 100%;border-bottom: 1px solid gray;flex-grow: 1;}#sk-container-id-1 div.sk-label:hover label.sk-toggleable__label {background-color: #d4ebff;}#sk-container-id-1 div.sk-serial::before {content: \"\";position: absolute;border-left: 1px solid gray;box-sizing: border-box;top: 0;bottom: 0;left: 50%;z-index: 0;}#sk-container-id-1 div.sk-serial {display: flex;flex-direction: column;align-items: center;background-color: white;padding-right: 0.2em;padding-left: 0.2em;position: relative;}#sk-container-id-1 div.sk-item {position: relative;z-index: 1;}#sk-container-id-1 div.sk-parallel {display: flex;align-items: stretch;justify-content: center;background-color: white;position: relative;}#sk-container-id-1 div.sk-item::before, #sk-container-id-1 div.sk-parallel-item::before {content: \"\";position: absolute;border-left: 1px solid gray;box-sizing: border-box;top: 0;bottom: 0;left: 50%;z-index: -1;}#sk-container-id-1 div.sk-parallel-item {display: flex;flex-direction: column;z-index: 1;position: relative;background-color: white;}#sk-container-id-1 div.sk-parallel-item:first-child::after {align-self: flex-end;width: 50%;}#sk-container-id-1 div.sk-parallel-item:last-child::after {align-self: flex-start;width: 50%;}#sk-container-id-1 div.sk-parallel-item:only-child::after {width: 0;}#sk-container-id-1 div.sk-dashed-wrapped {border: 1px dashed gray;margin: 0 0.4em 0.5em 0.4em;box-sizing: border-box;padding-bottom: 0.4em;background-color: white;}#sk-container-id-1 div.sk-label label {font-family: monospace;font-weight: bold;display: inline-block;line-height: 1.2em;}#sk-container-id-1 div.sk-label-container {text-align: center;}#sk-container-id-1 div.sk-container {/* jupyter's `normalize.less` sets `[hidden] { display: none; }` but bootstrap.min.css set `[hidden] { display: none !important; }` so we also need the `!important` here to be able to override the default hidden behavior on the sphinx rendered scikit-learn.org. See: https://github.com/scikit-learn/scikit-learn/issues/21755 */display: inline-block !important;position: relative;}#sk-container-id-1 div.sk-text-repr-fallback {display: none;}</style><div id=\"sk-container-id-1\" class=\"sk-top-container\"><div class=\"sk-text-repr-fallback\"><pre>StandardScaler()</pre><b>In a Jupyter environment, please rerun this cell to show the HTML representation or trust the notebook. <br />On GitHub, the HTML representation is unable to render, please try loading this page with nbviewer.org.</b></div><div class=\"sk-container\" hidden><div class=\"sk-item\"><div class=\"sk-estimator sk-toggleable\"><input class=\"sk-toggleable__control sk-hidden--visually\" id=\"sk-estimator-id-1\" type=\"checkbox\" checked><label for=\"sk-estimator-id-1\" class=\"sk-toggleable__label sk-toggleable__label-arrow\">StandardScaler</label><div class=\"sk-toggleable__content\"><pre>StandardScaler()</pre></div></div></div></div></div>"
      ],
      "text/plain": [
       "StandardScaler()"
      ]
     },
     "execution_count": 26,
     "metadata": {},
     "output_type": "execute_result"
    }
   ],
   "source": [
    "scalerX = StandardScaler()\n",
    "scalerY =  StandardScaler()\n",
    "scalerX.fit(X_train)\n",
    "scalerY.fit(y_train)"
   ]
  },
  {
   "cell_type": "markdown",
   "id": "52fa3dd3",
   "metadata": {},
   "source": [
    "## 다항 특성 변환"
   ]
  },
  {
   "cell_type": "code",
   "execution_count": 27,
   "id": "5dfe39c8",
   "metadata": {},
   "outputs": [],
   "source": [
    "poly = PolynomialFeatures()\n",
    "X_train_poly = pd.DataFrame(poly.fit_transform(scalerX.fit_transform(X_train)))\n",
    "X_val_poly = pd.DataFrame(poly.fit_transform(scalerX.fit_transform(X_val)))"
   ]
  },
  {
   "cell_type": "markdown",
   "id": "69d1250a",
   "metadata": {},
   "source": [
    "## Model Selection\n",
    "ridge, lasso, xgb, lgm 4개 모델 사용"
   ]
  },
  {
   "cell_type": "code",
   "execution_count": 28,
   "id": "0302fa44",
   "metadata": {},
   "outputs": [
    {
     "name": "stdout",
     "output_type": "stream",
     "text": [
      "Fitting 5 folds for each of 360 candidates, totalling 1800 fits\n"
     ]
    },
    {
     "data": {
      "text/html": [
       "<style>#sk-container-id-2 {color: black;background-color: white;}#sk-container-id-2 pre{padding: 0;}#sk-container-id-2 div.sk-toggleable {background-color: white;}#sk-container-id-2 label.sk-toggleable__label {cursor: pointer;display: block;width: 100%;margin-bottom: 0;padding: 0.3em;box-sizing: border-box;text-align: center;}#sk-container-id-2 label.sk-toggleable__label-arrow:before {content: \"▸\";float: left;margin-right: 0.25em;color: #696969;}#sk-container-id-2 label.sk-toggleable__label-arrow:hover:before {color: black;}#sk-container-id-2 div.sk-estimator:hover label.sk-toggleable__label-arrow:before {color: black;}#sk-container-id-2 div.sk-toggleable__content {max-height: 0;max-width: 0;overflow: hidden;text-align: left;background-color: #f0f8ff;}#sk-container-id-2 div.sk-toggleable__content pre {margin: 0.2em;color: black;border-radius: 0.25em;background-color: #f0f8ff;}#sk-container-id-2 input.sk-toggleable__control:checked~div.sk-toggleable__content {max-height: 200px;max-width: 100%;overflow: auto;}#sk-container-id-2 input.sk-toggleable__control:checked~label.sk-toggleable__label-arrow:before {content: \"▾\";}#sk-container-id-2 div.sk-estimator input.sk-toggleable__control:checked~label.sk-toggleable__label {background-color: #d4ebff;}#sk-container-id-2 div.sk-label input.sk-toggleable__control:checked~label.sk-toggleable__label {background-color: #d4ebff;}#sk-container-id-2 input.sk-hidden--visually {border: 0;clip: rect(1px 1px 1px 1px);clip: rect(1px, 1px, 1px, 1px);height: 1px;margin: -1px;overflow: hidden;padding: 0;position: absolute;width: 1px;}#sk-container-id-2 div.sk-estimator {font-family: monospace;background-color: #f0f8ff;border: 1px dotted black;border-radius: 0.25em;box-sizing: border-box;margin-bottom: 0.5em;}#sk-container-id-2 div.sk-estimator:hover {background-color: #d4ebff;}#sk-container-id-2 div.sk-parallel-item::after {content: \"\";width: 100%;border-bottom: 1px solid gray;flex-grow: 1;}#sk-container-id-2 div.sk-label:hover label.sk-toggleable__label {background-color: #d4ebff;}#sk-container-id-2 div.sk-serial::before {content: \"\";position: absolute;border-left: 1px solid gray;box-sizing: border-box;top: 0;bottom: 0;left: 50%;z-index: 0;}#sk-container-id-2 div.sk-serial {display: flex;flex-direction: column;align-items: center;background-color: white;padding-right: 0.2em;padding-left: 0.2em;position: relative;}#sk-container-id-2 div.sk-item {position: relative;z-index: 1;}#sk-container-id-2 div.sk-parallel {display: flex;align-items: stretch;justify-content: center;background-color: white;position: relative;}#sk-container-id-2 div.sk-item::before, #sk-container-id-2 div.sk-parallel-item::before {content: \"\";position: absolute;border-left: 1px solid gray;box-sizing: border-box;top: 0;bottom: 0;left: 50%;z-index: -1;}#sk-container-id-2 div.sk-parallel-item {display: flex;flex-direction: column;z-index: 1;position: relative;background-color: white;}#sk-container-id-2 div.sk-parallel-item:first-child::after {align-self: flex-end;width: 50%;}#sk-container-id-2 div.sk-parallel-item:last-child::after {align-self: flex-start;width: 50%;}#sk-container-id-2 div.sk-parallel-item:only-child::after {width: 0;}#sk-container-id-2 div.sk-dashed-wrapped {border: 1px dashed gray;margin: 0 0.4em 0.5em 0.4em;box-sizing: border-box;padding-bottom: 0.4em;background-color: white;}#sk-container-id-2 div.sk-label label {font-family: monospace;font-weight: bold;display: inline-block;line-height: 1.2em;}#sk-container-id-2 div.sk-label-container {text-align: center;}#sk-container-id-2 div.sk-container {/* jupyter's `normalize.less` sets `[hidden] { display: none; }` but bootstrap.min.css set `[hidden] { display: none !important; }` so we also need the `!important` here to be able to override the default hidden behavior on the sphinx rendered scikit-learn.org. See: https://github.com/scikit-learn/scikit-learn/issues/21755 */display: inline-block !important;position: relative;}#sk-container-id-2 div.sk-text-repr-fallback {display: none;}</style><div id=\"sk-container-id-2\" class=\"sk-top-container\"><div class=\"sk-text-repr-fallback\"><pre>GridSearchCV(cv=5, estimator=Ridge(random_state=42), n_jobs=-1,\n",
       "             param_grid={&#x27;alpha&#x27;: array([1.00000000e-04, 1.37382380e-04, 1.88739182e-04, 2.59294380e-04,\n",
       "       3.56224789e-04, 4.89390092e-04, 6.72335754e-04, 9.23670857e-04,\n",
       "       1.26896100e-03, 1.74332882e-03, 2.39502662e-03, 3.29034456e-03,\n",
       "       4.52035366e-03, 6.21016942e-03, 8.53167852e-03, 1.17210230e-02,\n",
       "       1.61026203e-02, 2.21221629e-02, 3.03919538e-02, 4.17531894e-02,\n",
       "       5.73615251e-02, 7.88046282e-02, 1.08263673e-01, 1.48735211e-01,\n",
       "       2.04335972e-01, 2.80721620e-01, 3.85662042e-01, 5.29831691e-01,\n",
       "       7.27895384e-01, 1.00000000e+00]),\n",
       "                         &#x27;fit_intercept&#x27;: [True, False],\n",
       "                         &#x27;solver&#x27;: [&#x27;svd&#x27;, &#x27;cholesky&#x27;, &#x27;lsqr&#x27;, &#x27;sparse_cg&#x27;,\n",
       "                                    &#x27;sag&#x27;, &#x27;saga&#x27;]},\n",
       "             return_train_score=True, verbose=1)</pre><b>In a Jupyter environment, please rerun this cell to show the HTML representation or trust the notebook. <br />On GitHub, the HTML representation is unable to render, please try loading this page with nbviewer.org.</b></div><div class=\"sk-container\" hidden><div class=\"sk-item sk-dashed-wrapped\"><div class=\"sk-label-container\"><div class=\"sk-label sk-toggleable\"><input class=\"sk-toggleable__control sk-hidden--visually\" id=\"sk-estimator-id-2\" type=\"checkbox\" ><label for=\"sk-estimator-id-2\" class=\"sk-toggleable__label sk-toggleable__label-arrow\">GridSearchCV</label><div class=\"sk-toggleable__content\"><pre>GridSearchCV(cv=5, estimator=Ridge(random_state=42), n_jobs=-1,\n",
       "             param_grid={&#x27;alpha&#x27;: array([1.00000000e-04, 1.37382380e-04, 1.88739182e-04, 2.59294380e-04,\n",
       "       3.56224789e-04, 4.89390092e-04, 6.72335754e-04, 9.23670857e-04,\n",
       "       1.26896100e-03, 1.74332882e-03, 2.39502662e-03, 3.29034456e-03,\n",
       "       4.52035366e-03, 6.21016942e-03, 8.53167852e-03, 1.17210230e-02,\n",
       "       1.61026203e-02, 2.21221629e-02, 3.03919538e-02, 4.17531894e-02,\n",
       "       5.73615251e-02, 7.88046282e-02, 1.08263673e-01, 1.48735211e-01,\n",
       "       2.04335972e-01, 2.80721620e-01, 3.85662042e-01, 5.29831691e-01,\n",
       "       7.27895384e-01, 1.00000000e+00]),\n",
       "                         &#x27;fit_intercept&#x27;: [True, False],\n",
       "                         &#x27;solver&#x27;: [&#x27;svd&#x27;, &#x27;cholesky&#x27;, &#x27;lsqr&#x27;, &#x27;sparse_cg&#x27;,\n",
       "                                    &#x27;sag&#x27;, &#x27;saga&#x27;]},\n",
       "             return_train_score=True, verbose=1)</pre></div></div></div><div class=\"sk-parallel\"><div class=\"sk-parallel-item\"><div class=\"sk-item\"><div class=\"sk-label-container\"><div class=\"sk-label sk-toggleable\"><input class=\"sk-toggleable__control sk-hidden--visually\" id=\"sk-estimator-id-3\" type=\"checkbox\" ><label for=\"sk-estimator-id-3\" class=\"sk-toggleable__label sk-toggleable__label-arrow\">estimator: Ridge</label><div class=\"sk-toggleable__content\"><pre>Ridge(random_state=42)</pre></div></div></div><div class=\"sk-serial\"><div class=\"sk-item\"><div class=\"sk-estimator sk-toggleable\"><input class=\"sk-toggleable__control sk-hidden--visually\" id=\"sk-estimator-id-4\" type=\"checkbox\" ><label for=\"sk-estimator-id-4\" class=\"sk-toggleable__label sk-toggleable__label-arrow\">Ridge</label><div class=\"sk-toggleable__content\"><pre>Ridge(random_state=42)</pre></div></div></div></div></div></div></div></div></div></div>"
      ],
      "text/plain": [
       "GridSearchCV(cv=5, estimator=Ridge(random_state=42), n_jobs=-1,\n",
       "             param_grid={'alpha': array([1.00000000e-04, 1.37382380e-04, 1.88739182e-04, 2.59294380e-04,\n",
       "       3.56224789e-04, 4.89390092e-04, 6.72335754e-04, 9.23670857e-04,\n",
       "       1.26896100e-03, 1.74332882e-03, 2.39502662e-03, 3.29034456e-03,\n",
       "       4.52035366e-03, 6.21016942e-03, 8.53167852e-03, 1.17210230e-02,\n",
       "       1.61026203e-02, 2.21221629e-02, 3.03919538e-02, 4.17531894e-02,\n",
       "       5.73615251e-02, 7.88046282e-02, 1.08263673e-01, 1.48735211e-01,\n",
       "       2.04335972e-01, 2.80721620e-01, 3.85662042e-01, 5.29831691e-01,\n",
       "       7.27895384e-01, 1.00000000e+00]),\n",
       "                         'fit_intercept': [True, False],\n",
       "                         'solver': ['svd', 'cholesky', 'lsqr', 'sparse_cg',\n",
       "                                    'sag', 'saga']},\n",
       "             return_train_score=True, verbose=1)"
      ]
     },
     "execution_count": 28,
     "metadata": {},
     "output_type": "execute_result"
    }
   ],
   "source": [
    "## Ridge\n",
    "ridge_reg = Ridge(random_state=42)\n",
    "params_Ridge = {'alpha': np.logspace(-4, 0, 30) , \"fit_intercept\": [True, False], \"solver\": ['svd', 'cholesky', 'lsqr', 'sparse_cg', 'sag', 'saga']}\n",
    "Ridge_GS = GridSearchCV(ridge_reg, param_grid=params_Ridge,refit=True, n_jobs=-1, return_train_score=True, verbose=1, cv=5)\n",
    "Ridge_GS.fit(X_train_poly, scalerY.fit_transform(y_train))"
   ]
  },
  {
   "cell_type": "code",
   "execution_count": 29,
   "id": "d7e64448",
   "metadata": {},
   "outputs": [
    {
     "name": "stdout",
     "output_type": "stream",
     "text": [
      "Fitting 5 folds for each of 30 candidates, totalling 150 fits\n"
     ]
    },
    {
     "data": {
      "text/html": [
       "<style>#sk-container-id-3 {color: black;background-color: white;}#sk-container-id-3 pre{padding: 0;}#sk-container-id-3 div.sk-toggleable {background-color: white;}#sk-container-id-3 label.sk-toggleable__label {cursor: pointer;display: block;width: 100%;margin-bottom: 0;padding: 0.3em;box-sizing: border-box;text-align: center;}#sk-container-id-3 label.sk-toggleable__label-arrow:before {content: \"▸\";float: left;margin-right: 0.25em;color: #696969;}#sk-container-id-3 label.sk-toggleable__label-arrow:hover:before {color: black;}#sk-container-id-3 div.sk-estimator:hover label.sk-toggleable__label-arrow:before {color: black;}#sk-container-id-3 div.sk-toggleable__content {max-height: 0;max-width: 0;overflow: hidden;text-align: left;background-color: #f0f8ff;}#sk-container-id-3 div.sk-toggleable__content pre {margin: 0.2em;color: black;border-radius: 0.25em;background-color: #f0f8ff;}#sk-container-id-3 input.sk-toggleable__control:checked~div.sk-toggleable__content {max-height: 200px;max-width: 100%;overflow: auto;}#sk-container-id-3 input.sk-toggleable__control:checked~label.sk-toggleable__label-arrow:before {content: \"▾\";}#sk-container-id-3 div.sk-estimator input.sk-toggleable__control:checked~label.sk-toggleable__label {background-color: #d4ebff;}#sk-container-id-3 div.sk-label input.sk-toggleable__control:checked~label.sk-toggleable__label {background-color: #d4ebff;}#sk-container-id-3 input.sk-hidden--visually {border: 0;clip: rect(1px 1px 1px 1px);clip: rect(1px, 1px, 1px, 1px);height: 1px;margin: -1px;overflow: hidden;padding: 0;position: absolute;width: 1px;}#sk-container-id-3 div.sk-estimator {font-family: monospace;background-color: #f0f8ff;border: 1px dotted black;border-radius: 0.25em;box-sizing: border-box;margin-bottom: 0.5em;}#sk-container-id-3 div.sk-estimator:hover {background-color: #d4ebff;}#sk-container-id-3 div.sk-parallel-item::after {content: \"\";width: 100%;border-bottom: 1px solid gray;flex-grow: 1;}#sk-container-id-3 div.sk-label:hover label.sk-toggleable__label {background-color: #d4ebff;}#sk-container-id-3 div.sk-serial::before {content: \"\";position: absolute;border-left: 1px solid gray;box-sizing: border-box;top: 0;bottom: 0;left: 50%;z-index: 0;}#sk-container-id-3 div.sk-serial {display: flex;flex-direction: column;align-items: center;background-color: white;padding-right: 0.2em;padding-left: 0.2em;position: relative;}#sk-container-id-3 div.sk-item {position: relative;z-index: 1;}#sk-container-id-3 div.sk-parallel {display: flex;align-items: stretch;justify-content: center;background-color: white;position: relative;}#sk-container-id-3 div.sk-item::before, #sk-container-id-3 div.sk-parallel-item::before {content: \"\";position: absolute;border-left: 1px solid gray;box-sizing: border-box;top: 0;bottom: 0;left: 50%;z-index: -1;}#sk-container-id-3 div.sk-parallel-item {display: flex;flex-direction: column;z-index: 1;position: relative;background-color: white;}#sk-container-id-3 div.sk-parallel-item:first-child::after {align-self: flex-end;width: 50%;}#sk-container-id-3 div.sk-parallel-item:last-child::after {align-self: flex-start;width: 50%;}#sk-container-id-3 div.sk-parallel-item:only-child::after {width: 0;}#sk-container-id-3 div.sk-dashed-wrapped {border: 1px dashed gray;margin: 0 0.4em 0.5em 0.4em;box-sizing: border-box;padding-bottom: 0.4em;background-color: white;}#sk-container-id-3 div.sk-label label {font-family: monospace;font-weight: bold;display: inline-block;line-height: 1.2em;}#sk-container-id-3 div.sk-label-container {text-align: center;}#sk-container-id-3 div.sk-container {/* jupyter's `normalize.less` sets `[hidden] { display: none; }` but bootstrap.min.css set `[hidden] { display: none !important; }` so we also need the `!important` here to be able to override the default hidden behavior on the sphinx rendered scikit-learn.org. See: https://github.com/scikit-learn/scikit-learn/issues/21755 */display: inline-block !important;position: relative;}#sk-container-id-3 div.sk-text-repr-fallback {display: none;}</style><div id=\"sk-container-id-3\" class=\"sk-top-container\"><div class=\"sk-text-repr-fallback\"><pre>GridSearchCV(cv=5, estimator=Lasso(random_state=42), n_jobs=-1,\n",
       "             param_grid={&#x27;alpha&#x27;: array([1.00000000e-04, 1.37382380e-04, 1.88739182e-04, 2.59294380e-04,\n",
       "       3.56224789e-04, 4.89390092e-04, 6.72335754e-04, 9.23670857e-04,\n",
       "       1.26896100e-03, 1.74332882e-03, 2.39502662e-03, 3.29034456e-03,\n",
       "       4.52035366e-03, 6.21016942e-03, 8.53167852e-03, 1.17210230e-02,\n",
       "       1.61026203e-02, 2.21221629e-02, 3.03919538e-02, 4.17531894e-02,\n",
       "       5.73615251e-02, 7.88046282e-02, 1.08263673e-01, 1.48735211e-01,\n",
       "       2.04335972e-01, 2.80721620e-01, 3.85662042e-01, 5.29831691e-01,\n",
       "       7.27895384e-01, 1.00000000e+00])},\n",
       "             return_train_score=True, verbose=1)</pre><b>In a Jupyter environment, please rerun this cell to show the HTML representation or trust the notebook. <br />On GitHub, the HTML representation is unable to render, please try loading this page with nbviewer.org.</b></div><div class=\"sk-container\" hidden><div class=\"sk-item sk-dashed-wrapped\"><div class=\"sk-label-container\"><div class=\"sk-label sk-toggleable\"><input class=\"sk-toggleable__control sk-hidden--visually\" id=\"sk-estimator-id-5\" type=\"checkbox\" ><label for=\"sk-estimator-id-5\" class=\"sk-toggleable__label sk-toggleable__label-arrow\">GridSearchCV</label><div class=\"sk-toggleable__content\"><pre>GridSearchCV(cv=5, estimator=Lasso(random_state=42), n_jobs=-1,\n",
       "             param_grid={&#x27;alpha&#x27;: array([1.00000000e-04, 1.37382380e-04, 1.88739182e-04, 2.59294380e-04,\n",
       "       3.56224789e-04, 4.89390092e-04, 6.72335754e-04, 9.23670857e-04,\n",
       "       1.26896100e-03, 1.74332882e-03, 2.39502662e-03, 3.29034456e-03,\n",
       "       4.52035366e-03, 6.21016942e-03, 8.53167852e-03, 1.17210230e-02,\n",
       "       1.61026203e-02, 2.21221629e-02, 3.03919538e-02, 4.17531894e-02,\n",
       "       5.73615251e-02, 7.88046282e-02, 1.08263673e-01, 1.48735211e-01,\n",
       "       2.04335972e-01, 2.80721620e-01, 3.85662042e-01, 5.29831691e-01,\n",
       "       7.27895384e-01, 1.00000000e+00])},\n",
       "             return_train_score=True, verbose=1)</pre></div></div></div><div class=\"sk-parallel\"><div class=\"sk-parallel-item\"><div class=\"sk-item\"><div class=\"sk-label-container\"><div class=\"sk-label sk-toggleable\"><input class=\"sk-toggleable__control sk-hidden--visually\" id=\"sk-estimator-id-6\" type=\"checkbox\" ><label for=\"sk-estimator-id-6\" class=\"sk-toggleable__label sk-toggleable__label-arrow\">estimator: Lasso</label><div class=\"sk-toggleable__content\"><pre>Lasso(random_state=42)</pre></div></div></div><div class=\"sk-serial\"><div class=\"sk-item\"><div class=\"sk-estimator sk-toggleable\"><input class=\"sk-toggleable__control sk-hidden--visually\" id=\"sk-estimator-id-7\" type=\"checkbox\" ><label for=\"sk-estimator-id-7\" class=\"sk-toggleable__label sk-toggleable__label-arrow\">Lasso</label><div class=\"sk-toggleable__content\"><pre>Lasso(random_state=42)</pre></div></div></div></div></div></div></div></div></div></div>"
      ],
      "text/plain": [
       "GridSearchCV(cv=5, estimator=Lasso(random_state=42), n_jobs=-1,\n",
       "             param_grid={'alpha': array([1.00000000e-04, 1.37382380e-04, 1.88739182e-04, 2.59294380e-04,\n",
       "       3.56224789e-04, 4.89390092e-04, 6.72335754e-04, 9.23670857e-04,\n",
       "       1.26896100e-03, 1.74332882e-03, 2.39502662e-03, 3.29034456e-03,\n",
       "       4.52035366e-03, 6.21016942e-03, 8.53167852e-03, 1.17210230e-02,\n",
       "       1.61026203e-02, 2.21221629e-02, 3.03919538e-02, 4.17531894e-02,\n",
       "       5.73615251e-02, 7.88046282e-02, 1.08263673e-01, 1.48735211e-01,\n",
       "       2.04335972e-01, 2.80721620e-01, 3.85662042e-01, 5.29831691e-01,\n",
       "       7.27895384e-01, 1.00000000e+00])},\n",
       "             return_train_score=True, verbose=1)"
      ]
     },
     "execution_count": 29,
     "metadata": {},
     "output_type": "execute_result"
    }
   ],
   "source": [
    "# Lasso\n",
    "lasso_reg = Lasso(random_state=42)\n",
    "lasso_parameters = {\n",
    " 'alpha': np.logspace(-4, 0, 30)\n",
    "}\n",
    "Lasso_GS = GridSearchCV(lasso_reg, param_grid=lasso_parameters,refit=True, n_jobs=-1, return_train_score=True, verbose=1, cv=5)\n",
    "Lasso_GS.fit(X_train_poly, scalerY.fit_transform(y_train))"
   ]
  },
  {
   "cell_type": "code",
   "execution_count": 30,
   "id": "c4c1a116",
   "metadata": {},
   "outputs": [
    {
     "name": "stdout",
     "output_type": "stream",
     "text": [
      "Fitting 5 folds for each of 800 candidates, totalling 4000 fits\n"
     ]
    },
    {
     "data": {
      "text/html": [
       "<style>#sk-container-id-4 {color: black;background-color: white;}#sk-container-id-4 pre{padding: 0;}#sk-container-id-4 div.sk-toggleable {background-color: white;}#sk-container-id-4 label.sk-toggleable__label {cursor: pointer;display: block;width: 100%;margin-bottom: 0;padding: 0.3em;box-sizing: border-box;text-align: center;}#sk-container-id-4 label.sk-toggleable__label-arrow:before {content: \"▸\";float: left;margin-right: 0.25em;color: #696969;}#sk-container-id-4 label.sk-toggleable__label-arrow:hover:before {color: black;}#sk-container-id-4 div.sk-estimator:hover label.sk-toggleable__label-arrow:before {color: black;}#sk-container-id-4 div.sk-toggleable__content {max-height: 0;max-width: 0;overflow: hidden;text-align: left;background-color: #f0f8ff;}#sk-container-id-4 div.sk-toggleable__content pre {margin: 0.2em;color: black;border-radius: 0.25em;background-color: #f0f8ff;}#sk-container-id-4 input.sk-toggleable__control:checked~div.sk-toggleable__content {max-height: 200px;max-width: 100%;overflow: auto;}#sk-container-id-4 input.sk-toggleable__control:checked~label.sk-toggleable__label-arrow:before {content: \"▾\";}#sk-container-id-4 div.sk-estimator input.sk-toggleable__control:checked~label.sk-toggleable__label {background-color: #d4ebff;}#sk-container-id-4 div.sk-label input.sk-toggleable__control:checked~label.sk-toggleable__label {background-color: #d4ebff;}#sk-container-id-4 input.sk-hidden--visually {border: 0;clip: rect(1px 1px 1px 1px);clip: rect(1px, 1px, 1px, 1px);height: 1px;margin: -1px;overflow: hidden;padding: 0;position: absolute;width: 1px;}#sk-container-id-4 div.sk-estimator {font-family: monospace;background-color: #f0f8ff;border: 1px dotted black;border-radius: 0.25em;box-sizing: border-box;margin-bottom: 0.5em;}#sk-container-id-4 div.sk-estimator:hover {background-color: #d4ebff;}#sk-container-id-4 div.sk-parallel-item::after {content: \"\";width: 100%;border-bottom: 1px solid gray;flex-grow: 1;}#sk-container-id-4 div.sk-label:hover label.sk-toggleable__label {background-color: #d4ebff;}#sk-container-id-4 div.sk-serial::before {content: \"\";position: absolute;border-left: 1px solid gray;box-sizing: border-box;top: 0;bottom: 0;left: 50%;z-index: 0;}#sk-container-id-4 div.sk-serial {display: flex;flex-direction: column;align-items: center;background-color: white;padding-right: 0.2em;padding-left: 0.2em;position: relative;}#sk-container-id-4 div.sk-item {position: relative;z-index: 1;}#sk-container-id-4 div.sk-parallel {display: flex;align-items: stretch;justify-content: center;background-color: white;position: relative;}#sk-container-id-4 div.sk-item::before, #sk-container-id-4 div.sk-parallel-item::before {content: \"\";position: absolute;border-left: 1px solid gray;box-sizing: border-box;top: 0;bottom: 0;left: 50%;z-index: -1;}#sk-container-id-4 div.sk-parallel-item {display: flex;flex-direction: column;z-index: 1;position: relative;background-color: white;}#sk-container-id-4 div.sk-parallel-item:first-child::after {align-self: flex-end;width: 50%;}#sk-container-id-4 div.sk-parallel-item:last-child::after {align-self: flex-start;width: 50%;}#sk-container-id-4 div.sk-parallel-item:only-child::after {width: 0;}#sk-container-id-4 div.sk-dashed-wrapped {border: 1px dashed gray;margin: 0 0.4em 0.5em 0.4em;box-sizing: border-box;padding-bottom: 0.4em;background-color: white;}#sk-container-id-4 div.sk-label label {font-family: monospace;font-weight: bold;display: inline-block;line-height: 1.2em;}#sk-container-id-4 div.sk-label-container {text-align: center;}#sk-container-id-4 div.sk-container {/* jupyter's `normalize.less` sets `[hidden] { display: none; }` but bootstrap.min.css set `[hidden] { display: none !important; }` so we also need the `!important` here to be able to override the default hidden behavior on the sphinx rendered scikit-learn.org. See: https://github.com/scikit-learn/scikit-learn/issues/21755 */display: inline-block !important;position: relative;}#sk-container-id-4 div.sk-text-repr-fallback {display: none;}</style><div id=\"sk-container-id-4\" class=\"sk-top-container\"><div class=\"sk-text-repr-fallback\"><pre>GridSearchCV(cv=5,\n",
       "             estimator=XGBRegressor(base_score=None, booster=None,\n",
       "                                    callbacks=None, colsample_bylevel=None,\n",
       "                                    colsample_bynode=None,\n",
       "                                    colsample_bytree=None,\n",
       "                                    early_stopping_rounds=None,\n",
       "                                    enable_categorical=False, eval_metric=None,\n",
       "                                    feature_types=None, gamma=None, gpu_id=None,\n",
       "                                    grow_policy=None, importance_type=None,\n",
       "                                    interaction_constraints=None,\n",
       "                                    learning_rate=None, m...\n",
       "                                    min_child_weight=None, missing=nan,\n",
       "                                    monotone_constraints=None, n_estimators=100,\n",
       "                                    n_jobs=None, num_parallel_tree=None,\n",
       "                                    predictor=None, random_state=42, ...),\n",
       "             n_jobs=-1,\n",
       "             param_grid={&#x27;colsample_bytree&#x27;: [0.8, 0.9], &#x27;gamma&#x27;: [0, 1, 2, 3],\n",
       "                         &#x27;learning_rate&#x27;: [0.01, 0.05, 0.1, 0.15],\n",
       "                         &#x27;max_depth&#x27;: [3, 5, 7, 10, 15],\n",
       "                         &#x27;n_estimators&#x27;: [100, 200, 300, 400, 500]},\n",
       "             return_train_score=True, verbose=1)</pre><b>In a Jupyter environment, please rerun this cell to show the HTML representation or trust the notebook. <br />On GitHub, the HTML representation is unable to render, please try loading this page with nbviewer.org.</b></div><div class=\"sk-container\" hidden><div class=\"sk-item sk-dashed-wrapped\"><div class=\"sk-label-container\"><div class=\"sk-label sk-toggleable\"><input class=\"sk-toggleable__control sk-hidden--visually\" id=\"sk-estimator-id-8\" type=\"checkbox\" ><label for=\"sk-estimator-id-8\" class=\"sk-toggleable__label sk-toggleable__label-arrow\">GridSearchCV</label><div class=\"sk-toggleable__content\"><pre>GridSearchCV(cv=5,\n",
       "             estimator=XGBRegressor(base_score=None, booster=None,\n",
       "                                    callbacks=None, colsample_bylevel=None,\n",
       "                                    colsample_bynode=None,\n",
       "                                    colsample_bytree=None,\n",
       "                                    early_stopping_rounds=None,\n",
       "                                    enable_categorical=False, eval_metric=None,\n",
       "                                    feature_types=None, gamma=None, gpu_id=None,\n",
       "                                    grow_policy=None, importance_type=None,\n",
       "                                    interaction_constraints=None,\n",
       "                                    learning_rate=None, m...\n",
       "                                    min_child_weight=None, missing=nan,\n",
       "                                    monotone_constraints=None, n_estimators=100,\n",
       "                                    n_jobs=None, num_parallel_tree=None,\n",
       "                                    predictor=None, random_state=42, ...),\n",
       "             n_jobs=-1,\n",
       "             param_grid={&#x27;colsample_bytree&#x27;: [0.8, 0.9], &#x27;gamma&#x27;: [0, 1, 2, 3],\n",
       "                         &#x27;learning_rate&#x27;: [0.01, 0.05, 0.1, 0.15],\n",
       "                         &#x27;max_depth&#x27;: [3, 5, 7, 10, 15],\n",
       "                         &#x27;n_estimators&#x27;: [100, 200, 300, 400, 500]},\n",
       "             return_train_score=True, verbose=1)</pre></div></div></div><div class=\"sk-parallel\"><div class=\"sk-parallel-item\"><div class=\"sk-item\"><div class=\"sk-label-container\"><div class=\"sk-label sk-toggleable\"><input class=\"sk-toggleable__control sk-hidden--visually\" id=\"sk-estimator-id-9\" type=\"checkbox\" ><label for=\"sk-estimator-id-9\" class=\"sk-toggleable__label sk-toggleable__label-arrow\">estimator: XGBRegressor</label><div class=\"sk-toggleable__content\"><pre>XGBRegressor(base_score=None, booster=None, callbacks=None,\n",
       "             colsample_bylevel=None, colsample_bynode=None,\n",
       "             colsample_bytree=None, early_stopping_rounds=None,\n",
       "             enable_categorical=False, eval_metric=None, feature_types=None,\n",
       "             gamma=None, gpu_id=None, grow_policy=None, importance_type=None,\n",
       "             interaction_constraints=None, learning_rate=None, max_bin=None,\n",
       "             max_cat_threshold=None, max_cat_to_onehot=None,\n",
       "             max_delta_step=None, max_depth=None, max_leaves=None,\n",
       "             min_child_weight=None, missing=nan, monotone_constraints=None,\n",
       "             n_estimators=100, n_jobs=None, num_parallel_tree=None,\n",
       "             predictor=None, random_state=42, ...)</pre></div></div></div><div class=\"sk-serial\"><div class=\"sk-item\"><div class=\"sk-estimator sk-toggleable\"><input class=\"sk-toggleable__control sk-hidden--visually\" id=\"sk-estimator-id-10\" type=\"checkbox\" ><label for=\"sk-estimator-id-10\" class=\"sk-toggleable__label sk-toggleable__label-arrow\">XGBRegressor</label><div class=\"sk-toggleable__content\"><pre>XGBRegressor(base_score=None, booster=None, callbacks=None,\n",
       "             colsample_bylevel=None, colsample_bynode=None,\n",
       "             colsample_bytree=None, early_stopping_rounds=None,\n",
       "             enable_categorical=False, eval_metric=None, feature_types=None,\n",
       "             gamma=None, gpu_id=None, grow_policy=None, importance_type=None,\n",
       "             interaction_constraints=None, learning_rate=None, max_bin=None,\n",
       "             max_cat_threshold=None, max_cat_to_onehot=None,\n",
       "             max_delta_step=None, max_depth=None, max_leaves=None,\n",
       "             min_child_weight=None, missing=nan, monotone_constraints=None,\n",
       "             n_estimators=100, n_jobs=None, num_parallel_tree=None,\n",
       "             predictor=None, random_state=42, ...)</pre></div></div></div></div></div></div></div></div></div></div>"
      ],
      "text/plain": [
       "GridSearchCV(cv=5,\n",
       "             estimator=XGBRegressor(base_score=None, booster=None,\n",
       "                                    callbacks=None, colsample_bylevel=None,\n",
       "                                    colsample_bynode=None,\n",
       "                                    colsample_bytree=None,\n",
       "                                    early_stopping_rounds=None,\n",
       "                                    enable_categorical=False, eval_metric=None,\n",
       "                                    feature_types=None, gamma=None, gpu_id=None,\n",
       "                                    grow_policy=None, importance_type=None,\n",
       "                                    interaction_constraints=None,\n",
       "                                    learning_rate=None, m...\n",
       "                                    min_child_weight=None, missing=nan,\n",
       "                                    monotone_constraints=None, n_estimators=100,\n",
       "                                    n_jobs=None, num_parallel_tree=None,\n",
       "                                    predictor=None, random_state=42, ...),\n",
       "             n_jobs=-1,\n",
       "             param_grid={'colsample_bytree': [0.8, 0.9], 'gamma': [0, 1, 2, 3],\n",
       "                         'learning_rate': [0.01, 0.05, 0.1, 0.15],\n",
       "                         'max_depth': [3, 5, 7, 10, 15],\n",
       "                         'n_estimators': [100, 200, 300, 400, 500]},\n",
       "             return_train_score=True, verbose=1)"
      ]
     },
     "execution_count": 30,
     "metadata": {},
     "output_type": "execute_result"
    }
   ],
   "source": [
    "# XGB\n",
    "\n",
    "xgb= XGBRegressor(random_state=42)\n",
    "xgb_param_grid={\n",
    "    'n_estimators' : [100,200,300,400,500],\n",
    "    'learning_rate' : [0.01,0.05,0.1,0.15],\n",
    "    'max_depth' : [3,5,7,10,15],\n",
    "    'gamma' : [0,1,2,3],\n",
    "    'colsample_bytree' : [0.8,0.9],\n",
    "    \n",
    "}\n",
    "XGB_GS = GridSearchCV(xgb, param_grid=xgb_param_grid,refit=True, n_jobs=-1, return_train_score=True, verbose=1, cv=5)\n",
    "XGB_GS.fit(X_train_poly, scalerY.fit_transform(y_train))"
   ]
  },
  {
   "cell_type": "code",
   "execution_count": 31,
   "id": "a3469664",
   "metadata": {
    "scrolled": false
   },
   "outputs": [
    {
     "name": "stdout",
     "output_type": "stream",
     "text": [
      "Fitting 5 folds for each of 2160 candidates, totalling 10800 fits\n"
     ]
    },
    {
     "data": {
      "text/html": [
       "<style>#sk-container-id-5 {color: black;background-color: white;}#sk-container-id-5 pre{padding: 0;}#sk-container-id-5 div.sk-toggleable {background-color: white;}#sk-container-id-5 label.sk-toggleable__label {cursor: pointer;display: block;width: 100%;margin-bottom: 0;padding: 0.3em;box-sizing: border-box;text-align: center;}#sk-container-id-5 label.sk-toggleable__label-arrow:before {content: \"▸\";float: left;margin-right: 0.25em;color: #696969;}#sk-container-id-5 label.sk-toggleable__label-arrow:hover:before {color: black;}#sk-container-id-5 div.sk-estimator:hover label.sk-toggleable__label-arrow:before {color: black;}#sk-container-id-5 div.sk-toggleable__content {max-height: 0;max-width: 0;overflow: hidden;text-align: left;background-color: #f0f8ff;}#sk-container-id-5 div.sk-toggleable__content pre {margin: 0.2em;color: black;border-radius: 0.25em;background-color: #f0f8ff;}#sk-container-id-5 input.sk-toggleable__control:checked~div.sk-toggleable__content {max-height: 200px;max-width: 100%;overflow: auto;}#sk-container-id-5 input.sk-toggleable__control:checked~label.sk-toggleable__label-arrow:before {content: \"▾\";}#sk-container-id-5 div.sk-estimator input.sk-toggleable__control:checked~label.sk-toggleable__label {background-color: #d4ebff;}#sk-container-id-5 div.sk-label input.sk-toggleable__control:checked~label.sk-toggleable__label {background-color: #d4ebff;}#sk-container-id-5 input.sk-hidden--visually {border: 0;clip: rect(1px 1px 1px 1px);clip: rect(1px, 1px, 1px, 1px);height: 1px;margin: -1px;overflow: hidden;padding: 0;position: absolute;width: 1px;}#sk-container-id-5 div.sk-estimator {font-family: monospace;background-color: #f0f8ff;border: 1px dotted black;border-radius: 0.25em;box-sizing: border-box;margin-bottom: 0.5em;}#sk-container-id-5 div.sk-estimator:hover {background-color: #d4ebff;}#sk-container-id-5 div.sk-parallel-item::after {content: \"\";width: 100%;border-bottom: 1px solid gray;flex-grow: 1;}#sk-container-id-5 div.sk-label:hover label.sk-toggleable__label {background-color: #d4ebff;}#sk-container-id-5 div.sk-serial::before {content: \"\";position: absolute;border-left: 1px solid gray;box-sizing: border-box;top: 0;bottom: 0;left: 50%;z-index: 0;}#sk-container-id-5 div.sk-serial {display: flex;flex-direction: column;align-items: center;background-color: white;padding-right: 0.2em;padding-left: 0.2em;position: relative;}#sk-container-id-5 div.sk-item {position: relative;z-index: 1;}#sk-container-id-5 div.sk-parallel {display: flex;align-items: stretch;justify-content: center;background-color: white;position: relative;}#sk-container-id-5 div.sk-item::before, #sk-container-id-5 div.sk-parallel-item::before {content: \"\";position: absolute;border-left: 1px solid gray;box-sizing: border-box;top: 0;bottom: 0;left: 50%;z-index: -1;}#sk-container-id-5 div.sk-parallel-item {display: flex;flex-direction: column;z-index: 1;position: relative;background-color: white;}#sk-container-id-5 div.sk-parallel-item:first-child::after {align-self: flex-end;width: 50%;}#sk-container-id-5 div.sk-parallel-item:last-child::after {align-self: flex-start;width: 50%;}#sk-container-id-5 div.sk-parallel-item:only-child::after {width: 0;}#sk-container-id-5 div.sk-dashed-wrapped {border: 1px dashed gray;margin: 0 0.4em 0.5em 0.4em;box-sizing: border-box;padding-bottom: 0.4em;background-color: white;}#sk-container-id-5 div.sk-label label {font-family: monospace;font-weight: bold;display: inline-block;line-height: 1.2em;}#sk-container-id-5 div.sk-label-container {text-align: center;}#sk-container-id-5 div.sk-container {/* jupyter's `normalize.less` sets `[hidden] { display: none; }` but bootstrap.min.css set `[hidden] { display: none !important; }` so we also need the `!important` here to be able to override the default hidden behavior on the sphinx rendered scikit-learn.org. See: https://github.com/scikit-learn/scikit-learn/issues/21755 */display: inline-block !important;position: relative;}#sk-container-id-5 div.sk-text-repr-fallback {display: none;}</style><div id=\"sk-container-id-5\" class=\"sk-top-container\"><div class=\"sk-text-repr-fallback\"><pre>GridSearchCV(cv=5, estimator=LGBMRegressor(random_state=42), n_jobs=-1,\n",
       "             param_grid={&#x27;learning_rate&#x27;: array([1.00000000e-04, 1.37382380e-04, 1.88739182e-04, 2.59294380e-04,\n",
       "       3.56224789e-04, 4.89390092e-04, 6.72335754e-04, 9.23670857e-04,\n",
       "       1.26896100e-03, 1.74332882e-03, 2.39502662e-03, 3.29034456e-03,\n",
       "       4.52035366e-03, 6.21016942e-03, 8.53167852e-03, 1.17210230e-02,\n",
       "       1.61026203e-02, 2.21221629e-02, 3.03919538e-02, 4.17531894e-02,\n",
       "       5.73615251e-02, 7.88046282e-02, 1.08263673e-01, 1.48735211e-01,\n",
       "       2.04335972e-01, 2.80721620e-01, 3.85662042e-01, 5.29831691e-01,\n",
       "       7.27895384e-01, 1.00000000e+00]),\n",
       "                         &#x27;max_depth&#x27;: [-1, 3, 5],\n",
       "                         &#x27;n_estimators&#x27;: [50, 100, 200, 500],\n",
       "                         &#x27;num_leaves&#x27;: [7, 14, 21, 28, 31, 50]},\n",
       "             return_train_score=True, verbose=1)</pre><b>In a Jupyter environment, please rerun this cell to show the HTML representation or trust the notebook. <br />On GitHub, the HTML representation is unable to render, please try loading this page with nbviewer.org.</b></div><div class=\"sk-container\" hidden><div class=\"sk-item sk-dashed-wrapped\"><div class=\"sk-label-container\"><div class=\"sk-label sk-toggleable\"><input class=\"sk-toggleable__control sk-hidden--visually\" id=\"sk-estimator-id-11\" type=\"checkbox\" ><label for=\"sk-estimator-id-11\" class=\"sk-toggleable__label sk-toggleable__label-arrow\">GridSearchCV</label><div class=\"sk-toggleable__content\"><pre>GridSearchCV(cv=5, estimator=LGBMRegressor(random_state=42), n_jobs=-1,\n",
       "             param_grid={&#x27;learning_rate&#x27;: array([1.00000000e-04, 1.37382380e-04, 1.88739182e-04, 2.59294380e-04,\n",
       "       3.56224789e-04, 4.89390092e-04, 6.72335754e-04, 9.23670857e-04,\n",
       "       1.26896100e-03, 1.74332882e-03, 2.39502662e-03, 3.29034456e-03,\n",
       "       4.52035366e-03, 6.21016942e-03, 8.53167852e-03, 1.17210230e-02,\n",
       "       1.61026203e-02, 2.21221629e-02, 3.03919538e-02, 4.17531894e-02,\n",
       "       5.73615251e-02, 7.88046282e-02, 1.08263673e-01, 1.48735211e-01,\n",
       "       2.04335972e-01, 2.80721620e-01, 3.85662042e-01, 5.29831691e-01,\n",
       "       7.27895384e-01, 1.00000000e+00]),\n",
       "                         &#x27;max_depth&#x27;: [-1, 3, 5],\n",
       "                         &#x27;n_estimators&#x27;: [50, 100, 200, 500],\n",
       "                         &#x27;num_leaves&#x27;: [7, 14, 21, 28, 31, 50]},\n",
       "             return_train_score=True, verbose=1)</pre></div></div></div><div class=\"sk-parallel\"><div class=\"sk-parallel-item\"><div class=\"sk-item\"><div class=\"sk-label-container\"><div class=\"sk-label sk-toggleable\"><input class=\"sk-toggleable__control sk-hidden--visually\" id=\"sk-estimator-id-12\" type=\"checkbox\" ><label for=\"sk-estimator-id-12\" class=\"sk-toggleable__label sk-toggleable__label-arrow\">estimator: LGBMRegressor</label><div class=\"sk-toggleable__content\"><pre>LGBMRegressor(random_state=42)</pre></div></div></div><div class=\"sk-serial\"><div class=\"sk-item\"><div class=\"sk-estimator sk-toggleable\"><input class=\"sk-toggleable__control sk-hidden--visually\" id=\"sk-estimator-id-13\" type=\"checkbox\" ><label for=\"sk-estimator-id-13\" class=\"sk-toggleable__label sk-toggleable__label-arrow\">LGBMRegressor</label><div class=\"sk-toggleable__content\"><pre>LGBMRegressor(random_state=42)</pre></div></div></div></div></div></div></div></div></div></div>"
      ],
      "text/plain": [
       "GridSearchCV(cv=5, estimator=LGBMRegressor(random_state=42), n_jobs=-1,\n",
       "             param_grid={'learning_rate': array([1.00000000e-04, 1.37382380e-04, 1.88739182e-04, 2.59294380e-04,\n",
       "       3.56224789e-04, 4.89390092e-04, 6.72335754e-04, 9.23670857e-04,\n",
       "       1.26896100e-03, 1.74332882e-03, 2.39502662e-03, 3.29034456e-03,\n",
       "       4.52035366e-03, 6.21016942e-03, 8.53167852e-03, 1.17210230e-02,\n",
       "       1.61026203e-02, 2.21221629e-02, 3.03919538e-02, 4.17531894e-02,\n",
       "       5.73615251e-02, 7.88046282e-02, 1.08263673e-01, 1.48735211e-01,\n",
       "       2.04335972e-01, 2.80721620e-01, 3.85662042e-01, 5.29831691e-01,\n",
       "       7.27895384e-01, 1.00000000e+00]),\n",
       "                         'max_depth': [-1, 3, 5],\n",
       "                         'n_estimators': [50, 100, 200, 500],\n",
       "                         'num_leaves': [7, 14, 21, 28, 31, 50]},\n",
       "             return_train_score=True, verbose=1)"
      ]
     },
     "execution_count": 31,
     "metadata": {},
     "output_type": "execute_result"
    }
   ],
   "source": [
    "# lgbm\n",
    "lgbm = LGBMRegressor(random_state=42)\n",
    "params = {\n",
    "    'num_leaves': [7, 14, 21, 28, 31, 50],\n",
    "    'learning_rate': np.logspace(-4, 0, 30),\n",
    "    'max_depth': [-1, 3, 5],\n",
    "    'n_estimators': [50, 100, 200, 500],\n",
    "}\n",
    "\n",
    "LGBM_GS = GridSearchCV(lgbm, param_grid=params,refit=True, n_jobs=-1, return_train_score=True, verbose=1, cv=5)\n",
    "LGBM_GS.fit(X_train_poly, scalerY.fit_transform(y_train))"
   ]
  },
  {
   "cell_type": "code",
   "execution_count": 60,
   "id": "96c83cce",
   "metadata": {},
   "outputs": [
    {
     "data": {
      "text/plain": [
       "10.145095914741265"
      ]
     },
     "execution_count": 60,
     "metadata": {},
     "output_type": "execute_result"
    }
   ],
   "source": [
    "mean_squared_error(scalerY.inverse_transform(ridge_pred), y_val)"
   ]
  },
  {
   "cell_type": "code",
   "execution_count": 61,
   "id": "1084b5a9",
   "metadata": {},
   "outputs": [
    {
     "data": {
      "text/plain": [
       "13.498102854868527"
      ]
     },
     "execution_count": 61,
     "metadata": {},
     "output_type": "execute_result"
    }
   ],
   "source": [
    "mean_squared_error(scalerY.inverse_transform(lasso_pred), y_val)"
   ]
  },
  {
   "cell_type": "code",
   "execution_count": 62,
   "id": "77407248",
   "metadata": {},
   "outputs": [
    {
     "data": {
      "text/plain": [
       "6.74871039784111"
      ]
     },
     "execution_count": 62,
     "metadata": {},
     "output_type": "execute_result"
    }
   ],
   "source": [
    "mean_squared_error(scalerY.inverse_transform(lgbm_pred), y_val)"
   ]
  },
  {
   "cell_type": "code",
   "execution_count": 63,
   "id": "f96437c0",
   "metadata": {},
   "outputs": [
    {
     "data": {
      "text/plain": [
       "7.291011575796873"
      ]
     },
     "execution_count": 63,
     "metadata": {},
     "output_type": "execute_result"
    }
   ],
   "source": [
    "mean_squared_error(scalerY.inverse_transform(xgb_pred), y_val)"
   ]
  },
  {
   "cell_type": "code",
   "execution_count": 86,
   "id": "b6ac744f",
   "metadata": {},
   "outputs": [],
   "source": [
    "ridge_pred = Ridge_GS.predict(poly.fit_transform(scalerX.fit_transform(X_test))).reshape(-1, 1)\n",
    "lasso_pred = Lasso_GS.predict(poly.fit_transform(scalerX.fit_transform(X_test))).reshape(-1, 1)\n",
    "xgb_pred = XGB_GS.predict(poly.fit_transform(scalerX.fit_transform(X_test))).reshape(-1, 1)\n",
    "lgbm_pred = LGBM_GS.predict(poly.fit_transform(scalerX.fit_transform(X_test))).reshape(-1, 1)"
   ]
  },
  {
   "cell_type": "code",
   "execution_count": 93,
   "id": "d4970a6d",
   "metadata": {},
   "outputs": [
    {
     "data": {
      "text/plain": [
       "array([[ 1.32856114],\n",
       "       [ 1.55040197],\n",
       "       [-0.59434681],\n",
       "       ...,\n",
       "       [ 0.62974532],\n",
       "       [-0.89885117],\n",
       "       [ 1.61155438]])"
      ]
     },
     "execution_count": 93,
     "metadata": {},
     "output_type": "execute_result"
    }
   ],
   "source": [
    "ridge_pred"
   ]
  },
  {
   "cell_type": "code",
   "execution_count": 80,
   "id": "5f00dbb1",
   "metadata": {},
   "outputs": [
    {
     "data": {
      "text/plain": [
       "array([[1.38945549e+09],\n",
       "       [1.98888253e+09],\n",
       "       [1.38967438e+09],\n",
       "       ...,\n",
       "       [1.29935821e+09],\n",
       "       [1.12689993e+09],\n",
       "       [1.41097046e+09]])"
      ]
     },
     "execution_count": 80,
     "metadata": {},
     "output_type": "execute_result"
    }
   ],
   "source": [
    "scalerY.inverse_transform(ridge_pred)"
   ]
  },
  {
   "cell_type": "code",
   "execution_count": 50,
   "id": "f1f85e22",
   "metadata": {},
   "outputs": [
    {
     "data": {
      "text/plain": [
       "array([[ 77.82157977],\n",
       "       [ 65.71775316],\n",
       "       [152.29467714],\n",
       "       ...,\n",
       "       [188.1149477 ],\n",
       "       [150.94431039],\n",
       "       [ 83.87201866]])"
      ]
     },
     "execution_count": 50,
     "metadata": {},
     "output_type": "execute_result"
    }
   ],
   "source": [
    "scalerY.inverse_transform(lasso_pred)"
   ]
  },
  {
   "cell_type": "code",
   "execution_count": 49,
   "id": "ec41d9e6",
   "metadata": {},
   "outputs": [
    {
     "data": {
      "text/plain": [
       "array([[ 77.068695],\n",
       "       [ 65.54555 ],\n",
       "       [146.79346 ],\n",
       "       ...,\n",
       "       [187.5685  ],\n",
       "       [149.25757 ],\n",
       "       [ 84.859215]], dtype=float32)"
      ]
     },
     "execution_count": 49,
     "metadata": {},
     "output_type": "execute_result"
    }
   ],
   "source": [
    "scalerY.inverse_transform(xgb_pred)"
   ]
  },
  {
   "cell_type": "code",
   "execution_count": 48,
   "id": "86370aa7",
   "metadata": {},
   "outputs": [
    {
     "data": {
      "text/plain": [
       "array([[ 78.53368446],\n",
       "       [ 62.03483818],\n",
       "       [146.32228861],\n",
       "       ...,\n",
       "       [187.59981018],\n",
       "       [149.66961332],\n",
       "       [ 84.35046089]])"
      ]
     },
     "execution_count": 48,
     "metadata": {},
     "output_type": "execute_result"
    }
   ],
   "source": [
    "scalerY.inverse_transform(lgbm_pred)"
   ]
  },
  {
   "cell_type": "code",
   "execution_count": 53,
   "id": "413d41cb",
   "metadata": {},
   "outputs": [],
   "source": [
    "mmin_error = 1000000"
   ]
  },
  {
   "cell_type": "code",
   "execution_count": 54,
   "id": "84ceb9ef",
   "metadata": {
    "collapsed": true
   },
   "outputs": [
    {
     "name": "stdout",
     "output_type": "stream",
     "text": [
      "1000000 === 0.01 mmin_error =  6.091866509696698\n",
      "2000000 === 0.02 mmin_error =  6.06399807112972\n",
      "3000000 === 0.03 mmin_error =  6.036741468898964\n",
      "4000000 === 0.04 mmin_error =  6.010476046292433\n",
      "5000000 === 0.05 mmin_error =  5.985066366390106\n",
      "6000000 === 0.06 mmin_error =  5.960154359623576\n",
      "7000000 === 0.07 mmin_error =  5.9362478566619705\n",
      "8000000 === 0.08 mmin_error =  5.913346857505295\n",
      "9000000 === 0.09 mmin_error =  5.890769513446151\n",
      "10000000 === 0.1 mmin_error =  5.869188699819082\n",
      "11000000 === 0.11 mmin_error =  5.848613389996939\n",
      "12000000 === 0.12 mmin_error =  5.82860583649638\n",
      "13000000 === 0.13 mmin_error =  5.8093507122038455\n",
      "14000000 === 0.14 mmin_error =  5.7911010917162375\n",
      "15000000 === 0.15 mmin_error =  5.773652760704133\n",
      "16000000 === 0.16 mmin_error =  5.756733893816265\n",
      "17000000 === 0.17 mmin_error =  5.74080996266319\n",
      "18000000 === 0.18 mmin_error =  5.725820405104234\n",
      "19000000 === 0.19 mmin_error =  5.7112498947496\n",
      "20000000 === 0.2 mmin_error =  5.697684888199895\n",
      "21000000 === 0.21 mmin_error =  5.685125385455115\n",
      "22000000 === 0.22 mmin_error =  5.672964397711893\n",
      "23000000 === 0.23 mmin_error =  5.661725080496721\n",
      "24000000 === 0.24 mmin_error =  5.651491267086476\n",
      "25000000 === 0.25 mmin_error =  5.641900069901837\n",
      "26000000 === 0.26 mmin_error =  5.6329864420212035\n",
      "27000000 === 0.27 mmin_error =  5.625078317945492\n",
      "28000000 === 0.28 mmin_error =  5.618054527198306\n",
      "29000000 === 0.29 mmin_error =  5.612796054229474\n",
      "30000000 === 0.3 mmin_error =  5.609478008369847\n",
      "31000000 === 0.31 mmin_error =  5.607981263656521\n",
      "32000000 === 0.32 mmin_error =  5.607981263656521\n",
      "33000000 === 0.33 mmin_error =  5.607981263656521\n",
      "34000000 === 0.34 mmin_error =  5.607981263656521\n",
      "35000000 === 0.35 mmin_error =  5.607981263656521\n",
      "36000000 === 0.36 mmin_error =  5.607981263656521\n",
      "37000000 === 0.37 mmin_error =  5.607981263656521\n",
      "38000000 === 0.38 mmin_error =  5.607981263656521\n",
      "39000000 === 0.39 mmin_error =  5.607981263656521\n",
      "40000000 === 0.4 mmin_error =  5.607981263656521\n",
      "41000000 === 0.41 mmin_error =  5.607981263656521\n",
      "42000000 === 0.42 mmin_error =  5.607981263656521\n",
      "43000000 === 0.43 mmin_error =  5.607981263656521\n",
      "44000000 === 0.44 mmin_error =  5.607981263656521\n",
      "45000000 === 0.45 mmin_error =  5.607981263656521\n",
      "46000000 === 0.46 mmin_error =  5.607981263656521\n",
      "47000000 === 0.47 mmin_error =  5.607981263656521\n",
      "48000000 === 0.48 mmin_error =  5.607981263656521\n",
      "49000000 === 0.49 mmin_error =  5.607981263656521\n",
      "50000000 === 0.5 mmin_error =  5.607981263656521\n",
      "51000000 === 0.51 mmin_error =  5.607981263656521\n",
      "52000000 === 0.52 mmin_error =  5.607981263656521\n",
      "53000000 === 0.53 mmin_error =  5.607981263656521\n",
      "54000000 === 0.54 mmin_error =  5.607981263656521\n",
      "55000000 === 0.55 mmin_error =  5.607981263656521\n",
      "56000000 === 0.56 mmin_error =  5.607981263656521\n",
      "57000000 === 0.57 mmin_error =  5.607981263656521\n",
      "58000000 === 0.58 mmin_error =  5.607981263656521\n",
      "59000000 === 0.59 mmin_error =  5.607981263656521\n",
      "60000000 === 0.6 mmin_error =  5.607981263656521\n",
      "61000000 === 0.61 mmin_error =  5.607981263656521\n",
      "62000000 === 0.62 mmin_error =  5.607981263656521\n",
      "63000000 === 0.63 mmin_error =  5.607981263656521\n",
      "64000000 === 0.64 mmin_error =  5.607981263656521\n",
      "65000000 === 0.65 mmin_error =  5.607981263656521\n",
      "66000000 === 0.66 mmin_error =  5.607981263656521\n",
      "67000000 === 0.67 mmin_error =  5.607981263656521\n",
      "68000000 === 0.68 mmin_error =  5.607981263656521\n",
      "69000000 === 0.69 mmin_error =  5.607981263656521\n",
      "70000000 === 0.7 mmin_error =  5.607981263656521\n",
      "71000000 === 0.71 mmin_error =  5.607981263656521\n",
      "72000000 === 0.72 mmin_error =  5.607981263656521\n",
      "73000000 === 0.73 mmin_error =  5.607981263656521\n",
      "74000000 === 0.74 mmin_error =  5.607981263656521\n",
      "75000000 === 0.75 mmin_error =  5.607981263656521\n",
      "76000000 === 0.76 mmin_error =  5.607981263656521\n",
      "77000000 === 0.77 mmin_error =  5.607981263656521\n",
      "78000000 === 0.78 mmin_error =  5.607981263656521\n",
      "79000000 === 0.79 mmin_error =  5.607981263656521\n",
      "80000000 === 0.8 mmin_error =  5.607981263656521\n",
      "81000000 === 0.81 mmin_error =  5.607981263656521\n",
      "82000000 === 0.82 mmin_error =  5.607981263656521\n",
      "83000000 === 0.83 mmin_error =  5.607981263656521\n",
      "84000000 === 0.84 mmin_error =  5.607981263656521\n",
      "85000000 === 0.85 mmin_error =  5.607981263656521\n",
      "86000000 === 0.86 mmin_error =  5.607981263656521\n",
      "87000000 === 0.87 mmin_error =  5.607981263656521\n",
      "88000000 === 0.88 mmin_error =  5.607981263656521\n",
      "89000000 === 0.89 mmin_error =  5.607981263656521\n",
      "90000000 === 0.9 mmin_error =  5.607981263656521\n",
      "91000000 === 0.91 mmin_error =  5.607981263656521\n",
      "92000000 === 0.92 mmin_error =  5.607981263656521\n",
      "93000000 === 0.93 mmin_error =  5.607981263656521\n",
      "94000000 === 0.94 mmin_error =  5.607981263656521\n",
      "95000000 === 0.95 mmin_error =  5.607981263656521\n",
      "96000000 === 0.96 mmin_error =  5.607981263656521\n",
      "97000000 === 0.97 mmin_error =  5.607981263656521\n",
      "98000000 === 0.98 mmin_error =  5.607981263656521\n",
      "99000000 === 0.99 mmin_error =  5.607981263656521\n",
      "100000000 === 1.0 mmin_error =  5.607981263656521\n",
      "101000000 === 1.01 mmin_error =  5.607981263656521\n",
      "102000000 === 1.02 mmin_error =  5.607981263656521\n",
      "103000000 === 1.03 mmin_error =  5.607981263656521\n",
      "104000000 === 1.04 mmin_error =  5.607981263656521\n"
     ]
    }
   ],
   "source": [
    "num = 0\n",
    "for i in range(0, 101, 1):\n",
    "    for j in range(0, 101, 1):\n",
    "        for p in range(0, 101, 1):\n",
    "            for q in range(0, 101, 1):\n",
    "                if i+j+q+p == 100:\n",
    "                    prediction = scalerY.inverse_transform((i/100)*ridge_pred + (j/100)*lasso_pred + (q/100)*xgb_pred + (p/100)*lgbm_pred)\n",
    "                    error = mean_squared_error(y_val, prediction)\n",
    "                    if error < mmin_error:\n",
    "                        mmin_error = error\n",
    "                        ri = i\n",
    "                        la = j\n",
    "                        xg = q\n",
    "                        lg = p\n",
    "                num +=1        \n",
    "                if num %1000000 == 0:\n",
    "                    print(num, '===', num/100**4, 'mmin_error = ', mmin_error)"
   ]
  },
  {
   "cell_type": "code",
   "execution_count": 65,
   "id": "96d65861",
   "metadata": {},
   "outputs": [
    {
     "name": "stdout",
     "output_type": "stream",
     "text": [
      "30\n",
      "0\n",
      "24\n",
      "46\n"
     ]
    }
   ],
   "source": [
    "print(ri)\n",
    "print(la)\n",
    "print(xg)\n",
    "print(lg)"
   ]
  },
  {
   "cell_type": "code",
   "execution_count": 90,
   "id": "e7c6622f",
   "metadata": {},
   "outputs": [],
   "source": [
    "prediction = scalerY.inverse_transform(0.3*ridge_pred + 0.00*lasso_pred + 0.24*xgb_pred + 0.46*lgbm_pred)"
   ]
  },
  {
   "cell_type": "code",
   "execution_count": 92,
   "id": "6bfd8a66",
   "metadata": {},
   "outputs": [
    {
     "data": {
      "text/plain": [
       "array([[ 1.32856114],\n",
       "       [ 1.55040197],\n",
       "       [-0.59434681],\n",
       "       ...,\n",
       "       [ 0.62974532],\n",
       "       [-0.89885117],\n",
       "       [ 1.61155438]])"
      ]
     },
     "execution_count": 92,
     "metadata": {},
     "output_type": "execute_result"
    }
   ],
   "source": [
    "ridge_pred"
   ]
  },
  {
   "cell_type": "code",
   "execution_count": 73,
   "id": "331424f8",
   "metadata": {},
   "outputs": [],
   "source": [
    "submission['Calories_Burned'] = prediction"
   ]
  },
  {
   "cell_type": "code",
   "execution_count": 74,
   "id": "f2be7194",
   "metadata": {},
   "outputs": [],
   "source": [
    "submission.to_csv('sub_test.csv', index=False)"
   ]
  }
 ],
 "metadata": {
  "kernelspec": {
   "display_name": "Python 3 (ipykernel)",
   "language": "python",
   "name": "python3"
  },
  "language_info": {
   "codemirror_mode": {
    "name": "ipython",
    "version": 3
   },
   "file_extension": ".py",
   "mimetype": "text/x-python",
   "name": "python",
   "nbconvert_exporter": "python",
   "pygments_lexer": "ipython3",
   "version": "3.9.13"
  }
 },
 "nbformat": 4,
 "nbformat_minor": 5
}
